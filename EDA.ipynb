{
  "nbformat": 4,
  "nbformat_minor": 0,
  "metadata": {
    "colab": {
      "name": "Untitled0.ipynb",
      "provenance": [],
      "authorship_tag": "ABX9TyOQSiUxs4NwQ/4RpmVIJ5Ol",
      "include_colab_link": true
    },
    "kernelspec": {
      "name": "python3",
      "display_name": "Python 3"
    },
    "language_info": {
      "name": "python"
    }
  },
  "cells": [
    {
      "cell_type": "markdown",
      "metadata": {
        "id": "view-in-github",
        "colab_type": "text"
      },
      "source": [
        "<a href=\"https://colab.research.google.com/github/lloyd31/gan-analysis-db/blob/main/EDA.ipynb\" target=\"_parent\"><img src=\"https://colab.research.google.com/assets/colab-badge.svg\" alt=\"Open In Colab\"/></a>"
      ]
    },
    {
      "cell_type": "markdown",
      "source": [
        "**EDA Analysis**"
      ],
      "metadata": {
        "id": "7AQmJCt_6qYT"
      }
    },
    {
      "cell_type": "markdown",
      "source": [
        ""
      ],
      "metadata": {
        "id": "t81DnOAJ6p8N"
      }
    },
    {
      "cell_type": "code",
      "execution_count": 1,
      "metadata": {
        "id": "X6rBHAPK5x9m"
      },
      "outputs": [],
      "source": [
        "import numpy as np\n",
        "import pandas as pd"
      ]
    },
    {
      "cell_type": "code",
      "source": [
        "#CLone the dataset and prepare the d\n",
        "!git clone https://github.com/lloyd31/gan-analysis-db.git"
      ],
      "metadata": {
        "colab": {
          "base_uri": "https://localhost:8080/"
        },
        "id": "jrAYVLqD6Urf",
        "outputId": "2e3dfadf-efc6-48d7-ba18-50f65d79a917"
      },
      "execution_count": 2,
      "outputs": [
        {
          "output_type": "stream",
          "name": "stdout",
          "text": [
            "Cloning into 'gan-analysis-db'...\n",
            "remote: Enumerating objects: 3329, done.\u001b[K\n",
            "remote: Counting objects: 100% (3329/3329), done.\u001b[K\n",
            "remote: Compressing objects: 100% (3320/3320), done.\u001b[K\n",
            "remote: Total 3329 (delta 2), reused 3325 (delta 1), pack-reused 0\u001b[K\n",
            "Receiving objects: 100% (3329/3329), 291.86 MiB | 40.60 MiB/s, done.\n",
            "Resolving deltas: 100% (2/2), done.\n",
            "Checking out files: 100% (3298/3298), done.\n"
          ]
        }
      ]
    }
  ]
}